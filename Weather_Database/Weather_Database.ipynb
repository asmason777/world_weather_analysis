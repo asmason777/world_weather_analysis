{
 "cells": [
  {
   "cell_type": "code",
   "execution_count": 4,
   "metadata": {},
   "outputs": [],
   "source": [
    "# Import the random module.\n",
    "import pandas as pd\n",
    "import matplotlib.pyplot as plt\n",
    "import numpy as np"
   ]
  },
  {
   "cell_type": "code",
   "execution_count": 5,
   "metadata": {},
   "outputs": [],
   "source": [
    "# Import the requests library.\n",
    "import requests"
   ]
  },
  {
   "cell_type": "code",
   "execution_count": 6,
   "metadata": {},
   "outputs": [],
   "source": [
    "# Use the citipy module to determine city based on latitude and longitude.\n",
    "from citipy import citipy"
   ]
  },
  {
   "cell_type": "code",
   "execution_count": 8,
   "metadata": {},
   "outputs": [],
   "source": [
    "# Import the API key.\n",
    "from config2 import weather_api_key"
   ]
  },
  {
   "cell_type": "code",
   "execution_count": 9,
   "metadata": {},
   "outputs": [
    {
     "data": {
      "text/plain": [
       "<zip at 0x198ba600788>"
      ]
     },
     "execution_count": 9,
     "metadata": {},
     "output_type": "execute_result"
    }
   ],
   "source": [
    "#(3) Create a set of random latitude and longitude combinations.\n",
    "lats = np.random.uniform(low=-90.000, high=90.000, size=2000)\n",
    "lngs = np.random.uniform(low=-180.000, high=180.000, size=2000)\n",
    "lat_lngs = zip(lats, lngs)\n",
    "lat_lngs"
   ]
  },
  {
   "cell_type": "code",
   "execution_count": 10,
   "metadata": {},
   "outputs": [
    {
     "data": {
      "text/plain": [
       "2000"
      ]
     },
     "execution_count": 10,
     "metadata": {},
     "output_type": "execute_result"
    }
   ],
   "source": [
    "# Add the latitudes and longitudes to a list.\n",
    "coordinates = list(lat_lngs)\n",
    "len(coordinates)"
   ]
  },
  {
   "cell_type": "code",
   "execution_count": 11,
   "metadata": {},
   "outputs": [
    {
     "data": {
      "text/plain": [
       "753"
      ]
     },
     "execution_count": 11,
     "metadata": {},
     "output_type": "execute_result"
    }
   ],
   "source": [
    "#(4) Create a list for holding the cities.\n",
    "cities = []\n",
    "# Identify the nearest city for each latitude and longitude combination.\n",
    "for coordinate in coordinates:\n",
    "    city = citipy.nearest_city(coordinate[0], coordinate[1]).city_name\n",
    "\n",
    "    # If the city is unique, then we will add it to the cities list.\n",
    "    if city not in cities:\n",
    "        cities.append(city)\n",
    "# Print the city count to confirm sufficient count.\n",
    "len(cities)"
   ]
  },
  {
   "cell_type": "code",
   "execution_count": 29,
   "metadata": {},
   "outputs": [
    {
     "data": {
      "text/plain": [
       "'clear sky'"
      ]
     },
     "execution_count": 29,
     "metadata": {},
     "output_type": "execute_result"
    }
   ],
   "source": [
    "#Run test for information\n",
    "test_url=\"http://api.openweathermap.org/data/2.5/weather?units=Imperial&APPID=\" + weather_api_key + \"&q=Las Vegas\"\n",
    "test =requests.get(test_url).json()\n",
    "test[\"weather\"][0][\"description\"]"
   ]
  },
  {
   "cell_type": "code",
   "execution_count": 12,
   "metadata": {},
   "outputs": [],
   "source": [
    "#(5) Starting URL for Weather Map API Call.\n",
    "url = \"http://api.openweathermap.org/data/2.5/weather?units=Imperial&APPID=\" + weather_api_key"
   ]
  },
  {
   "cell_type": "code",
   "execution_count": 13,
   "metadata": {},
   "outputs": [],
   "source": [
    "# Create an empty list to hold the weather data.\n",
    "city_data = []"
   ]
  },
  {
   "cell_type": "code",
   "execution_count": 14,
   "metadata": {},
   "outputs": [
    {
     "name": "stdout",
     "output_type": "stream",
     "text": [
      "City not found\n",
      "City not found\n",
      "City not found\n",
      "City not found\n",
      "City not found\n",
      "City not found\n",
      "City not found\n",
      "City not found\n",
      "City not found\n",
      "City not found\n",
      "City not found\n",
      "City not found\n",
      "City not found\n",
      "City not found\n",
      "City not found\n",
      "City not found\n",
      "City not found\n",
      "City not found\n",
      "City not found\n",
      "City not found\n",
      "City not found\n",
      "City not found\n",
      "City not found\n",
      "City not found\n",
      "City not found\n",
      "City not found\n",
      "City not found\n",
      "City not found\n",
      "City not found\n",
      "City not found\n",
      "City not found\n",
      "City not found\n",
      "City not found\n",
      "City not found\n",
      "City not found\n",
      "City not found\n",
      "City not found\n",
      "City not found\n",
      "City not found\n",
      "City not found\n",
      "City not found\n",
      "City not found\n",
      "City not found\n",
      "City not found\n",
      "City not found\n",
      "City not found\n",
      "City not found\n",
      "City not found\n",
      "City not found\n",
      "City not found\n",
      "City not found\n",
      "City not found\n",
      "City not found\n",
      "City not found\n",
      "City not found\n",
      "City not found\n",
      "City not found\n",
      "City not found\n",
      "City not found\n",
      "City not found\n",
      "City not found\n",
      "City not found\n",
      "City not found\n",
      "City not found\n",
      "City not found\n",
      "City not found\n",
      "City not found\n",
      "Done running code\n"
     ]
    }
   ],
   "source": [
    "# Loop through all the cities in the list.\n",
    "for city in cities:\n",
    "\n",
    "    # Create endpoint URL with each city.\n",
    "    city_url = url + \"&q=\" + city.replace(\" \",\"+\")\n",
    "    \n",
    "# Run an API request for each of the cities.\n",
    "    try:\n",
    "        # Parse the JSON and retrieve data.\n",
    "        city_weather = requests.get(city_url).json()\n",
    "        # Parse out the needed data.\n",
    "        city_lat = city_weather[\"coord\"][\"lat\"]\n",
    "        city_lng = city_weather[\"coord\"][\"lon\"]\n",
    "        city_max_temp = city_weather[\"main\"][\"temp_max\"]\n",
    "        city_humidity = city_weather[\"main\"][\"humidity\"]\n",
    "        city_clouds = city_weather[\"clouds\"][\"all\"]\n",
    "        city_wind = city_weather[\"wind\"][\"speed\"]\n",
    "        city_country = city_weather[\"sys\"][\"country\"]\n",
    "        city_descript = city_weather[\"weather\"][0][\"description\"]\n",
    "        \n",
    "        # Append the city information into city_data list.\n",
    "        city_data.append({\"City\": city.title(),\n",
    "                          \"Lat\": city_lat,\n",
    "                          \"Lng\": city_lng,\n",
    "                          \"Max Temp\": city_max_temp,\n",
    "                          \"Humidity\": city_humidity,\n",
    "                          \"Cloudiness\": city_clouds,\n",
    "                          \"Wind Speed\": city_wind,\n",
    "                          \"Country\": city_country,\n",
    "                          \"Current Description\": city_descript})\n",
    "\n",
    "# If an error is experienced, skip the city.\n",
    "    except:\n",
    "        print(\"City not found\")\n",
    "        pass\n",
    "\n",
    "# Indicate that Data Loading is complete.\n",
    "print(\"Done running code\")"
   ]
  },
  {
   "cell_type": "code",
   "execution_count": 15,
   "metadata": {},
   "outputs": [
    {
     "data": {
      "text/plain": [
       "686"
      ]
     },
     "execution_count": 15,
     "metadata": {},
     "output_type": "execute_result"
    }
   ],
   "source": [
    "len(city_data)"
   ]
  },
  {
   "cell_type": "code",
   "execution_count": 16,
   "metadata": {},
   "outputs": [
    {
     "data": {
      "text/html": [
       "<div>\n",
       "<style scoped>\n",
       "    .dataframe tbody tr th:only-of-type {\n",
       "        vertical-align: middle;\n",
       "    }\n",
       "\n",
       "    .dataframe tbody tr th {\n",
       "        vertical-align: top;\n",
       "    }\n",
       "\n",
       "    .dataframe thead th {\n",
       "        text-align: right;\n",
       "    }\n",
       "</style>\n",
       "<table border=\"1\" class=\"dataframe\">\n",
       "  <thead>\n",
       "    <tr style=\"text-align: right;\">\n",
       "      <th></th>\n",
       "      <th>City</th>\n",
       "      <th>Lat</th>\n",
       "      <th>Lng</th>\n",
       "      <th>Max Temp</th>\n",
       "      <th>Humidity</th>\n",
       "      <th>Cloudiness</th>\n",
       "      <th>Wind Speed</th>\n",
       "      <th>Country</th>\n",
       "      <th>Current Description</th>\n",
       "    </tr>\n",
       "  </thead>\n",
       "  <tbody>\n",
       "    <tr>\n",
       "      <th>0</th>\n",
       "      <td>Atuona</td>\n",
       "      <td>-9.8000</td>\n",
       "      <td>-139.0333</td>\n",
       "      <td>79.74</td>\n",
       "      <td>73</td>\n",
       "      <td>26</td>\n",
       "      <td>11.45</td>\n",
       "      <td>PF</td>\n",
       "      <td>scattered clouds</td>\n",
       "    </tr>\n",
       "    <tr>\n",
       "      <th>1</th>\n",
       "      <td>Provideniya</td>\n",
       "      <td>64.3833</td>\n",
       "      <td>-173.3000</td>\n",
       "      <td>33.66</td>\n",
       "      <td>93</td>\n",
       "      <td>100</td>\n",
       "      <td>19.30</td>\n",
       "      <td>RU</td>\n",
       "      <td>snow</td>\n",
       "    </tr>\n",
       "    <tr>\n",
       "      <th>2</th>\n",
       "      <td>Norman Wells</td>\n",
       "      <td>65.2820</td>\n",
       "      <td>-126.8329</td>\n",
       "      <td>1.40</td>\n",
       "      <td>66</td>\n",
       "      <td>75</td>\n",
       "      <td>20.71</td>\n",
       "      <td>CA</td>\n",
       "      <td>broken clouds</td>\n",
       "    </tr>\n",
       "    <tr>\n",
       "      <th>3</th>\n",
       "      <td>Khandbari</td>\n",
       "      <td>27.3747</td>\n",
       "      <td>87.2039</td>\n",
       "      <td>56.25</td>\n",
       "      <td>42</td>\n",
       "      <td>2</td>\n",
       "      <td>3.62</td>\n",
       "      <td>NP</td>\n",
       "      <td>clear sky</td>\n",
       "    </tr>\n",
       "    <tr>\n",
       "      <th>4</th>\n",
       "      <td>Puerto Ayora</td>\n",
       "      <td>-0.7393</td>\n",
       "      <td>-90.3518</td>\n",
       "      <td>84.20</td>\n",
       "      <td>74</td>\n",
       "      <td>20</td>\n",
       "      <td>14.97</td>\n",
       "      <td>EC</td>\n",
       "      <td>light rain</td>\n",
       "    </tr>\n",
       "    <tr>\n",
       "      <th>...</th>\n",
       "      <td>...</td>\n",
       "      <td>...</td>\n",
       "      <td>...</td>\n",
       "      <td>...</td>\n",
       "      <td>...</td>\n",
       "      <td>...</td>\n",
       "      <td>...</td>\n",
       "      <td>...</td>\n",
       "      <td>...</td>\n",
       "    </tr>\n",
       "    <tr>\n",
       "      <th>681</th>\n",
       "      <td>Mitsamiouli</td>\n",
       "      <td>-11.3847</td>\n",
       "      <td>43.2844</td>\n",
       "      <td>81.45</td>\n",
       "      <td>76</td>\n",
       "      <td>87</td>\n",
       "      <td>11.07</td>\n",
       "      <td>KM</td>\n",
       "      <td>overcast clouds</td>\n",
       "    </tr>\n",
       "    <tr>\n",
       "      <th>682</th>\n",
       "      <td>Vyazma</td>\n",
       "      <td>55.2104</td>\n",
       "      <td>34.2951</td>\n",
       "      <td>18.91</td>\n",
       "      <td>96</td>\n",
       "      <td>68</td>\n",
       "      <td>12.30</td>\n",
       "      <td>RU</td>\n",
       "      <td>broken clouds</td>\n",
       "    </tr>\n",
       "    <tr>\n",
       "      <th>683</th>\n",
       "      <td>Troitsko-Pechorsk</td>\n",
       "      <td>62.7084</td>\n",
       "      <td>56.1964</td>\n",
       "      <td>-11.40</td>\n",
       "      <td>90</td>\n",
       "      <td>84</td>\n",
       "      <td>2.19</td>\n",
       "      <td>RU</td>\n",
       "      <td>broken clouds</td>\n",
       "    </tr>\n",
       "    <tr>\n",
       "      <th>684</th>\n",
       "      <td>Aquiraz</td>\n",
       "      <td>-3.9014</td>\n",
       "      <td>-38.3911</td>\n",
       "      <td>81.00</td>\n",
       "      <td>89</td>\n",
       "      <td>20</td>\n",
       "      <td>3.44</td>\n",
       "      <td>BR</td>\n",
       "      <td>few clouds</td>\n",
       "    </tr>\n",
       "    <tr>\n",
       "      <th>685</th>\n",
       "      <td>Anaconda</td>\n",
       "      <td>46.1285</td>\n",
       "      <td>-112.9423</td>\n",
       "      <td>42.80</td>\n",
       "      <td>39</td>\n",
       "      <td>75</td>\n",
       "      <td>8.05</td>\n",
       "      <td>US</td>\n",
       "      <td>broken clouds</td>\n",
       "    </tr>\n",
       "  </tbody>\n",
       "</table>\n",
       "<p>686 rows × 9 columns</p>\n",
       "</div>"
      ],
      "text/plain": [
       "                  City      Lat       Lng  Max Temp  Humidity  Cloudiness  \\\n",
       "0               Atuona  -9.8000 -139.0333     79.74        73          26   \n",
       "1          Provideniya  64.3833 -173.3000     33.66        93         100   \n",
       "2         Norman Wells  65.2820 -126.8329      1.40        66          75   \n",
       "3            Khandbari  27.3747   87.2039     56.25        42           2   \n",
       "4         Puerto Ayora  -0.7393  -90.3518     84.20        74          20   \n",
       "..                 ...      ...       ...       ...       ...         ...   \n",
       "681        Mitsamiouli -11.3847   43.2844     81.45        76          87   \n",
       "682             Vyazma  55.2104   34.2951     18.91        96          68   \n",
       "683  Troitsko-Pechorsk  62.7084   56.1964    -11.40        90          84   \n",
       "684            Aquiraz  -3.9014  -38.3911     81.00        89          20   \n",
       "685           Anaconda  46.1285 -112.9423     42.80        39          75   \n",
       "\n",
       "     Wind Speed Country Current Description  \n",
       "0         11.45      PF    scattered clouds  \n",
       "1         19.30      RU                snow  \n",
       "2         20.71      CA       broken clouds  \n",
       "3          3.62      NP           clear sky  \n",
       "4         14.97      EC          light rain  \n",
       "..          ...     ...                 ...  \n",
       "681       11.07      KM     overcast clouds  \n",
       "682       12.30      RU       broken clouds  \n",
       "683        2.19      RU       broken clouds  \n",
       "684        3.44      BR          few clouds  \n",
       "685        8.05      US       broken clouds  \n",
       "\n",
       "[686 rows x 9 columns]"
      ]
     },
     "execution_count": 16,
     "metadata": {},
     "output_type": "execute_result"
    }
   ],
   "source": [
    "# Convert the array of dictionaries to a Pandas DataFrame.\n",
    "city_data_df = pd.DataFrame(city_data)\n",
    "city_data_df"
   ]
  },
  {
   "cell_type": "code",
   "execution_count": 17,
   "metadata": {},
   "outputs": [],
   "source": [
    "col_change=[\"City\",\"Country\",\"Lat\",\"Lng\",\"Max Temp\",\"Humidity\",\"Cloudiness\",\"Wind Speed\",\"Current Description\"]"
   ]
  },
  {
   "cell_type": "code",
   "execution_count": 18,
   "metadata": {},
   "outputs": [],
   "source": [
    "city_data_df=city_data_df[col_change]"
   ]
  },
  {
   "cell_type": "code",
   "execution_count": 22,
   "metadata": {},
   "outputs": [],
   "source": [
    "# Create the output file (CSV).\n",
    "output_file =\"WeatherPy_Database.csv\"\n",
    "# Export the City_Data into a CSV.\n",
    "city_data_df.to_csv(output_file, index_label=\"City_ID\")"
   ]
  },
  {
   "cell_type": "code",
   "execution_count": null,
   "metadata": {},
   "outputs": [],
   "source": []
  }
 ],
 "metadata": {
  "kernelspec": {
   "display_name": "PythonData",
   "language": "python",
   "name": "pythondata"
  },
  "language_info": {
   "codemirror_mode": {
    "name": "ipython",
    "version": 3
   },
   "file_extension": ".py",
   "mimetype": "text/x-python",
   "name": "python",
   "nbconvert_exporter": "python",
   "pygments_lexer": "ipython3",
   "version": "3.7.9"
  }
 },
 "nbformat": 4,
 "nbformat_minor": 4
}
